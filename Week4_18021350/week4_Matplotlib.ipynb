{
 "cells": [
  {
   "cell_type": "code",
   "execution_count": 1,
   "metadata": {},
   "outputs": [],
   "source": [
    "import matplotlib.pyplot as plt\n",
    "import numpy as np\n",
    "import pandas as pd"
   ]
  },
  {
   "cell_type": "code",
   "execution_count": 2,
   "metadata": {},
   "outputs": [],
   "source": [
    "df = pd.read_csv('info.csv', index_col=0)"
   ]
  },
  {
   "cell_type": "code",
   "execution_count": 68,
   "metadata": {},
   "outputs": [
    {
     "name": "stdout",
     "output_type": "stream",
     "text": [
      "                                                           Type     Price  \\\n",
      "Product                                                                     \n",
      "Apple iPhone 11                                     Điện thoại   18950000   \n",
      "Bộ phát Wifi di động 4G LTE TotoLink MF180 v2.0       Phụ kiện    1090000   \n",
      "Nokia 7.2                                           Điện thoại    2500000   \n",
      "OPPO Find X2                                        Điện thoại   18750000   \n",
      "Oppo A31 4GB/128GB                                  Điện thoại    3300000   \n",
      "...                                                         ...       ...   \n",
      "Cổng chuyển HyperDrive Ultimate USB                   Phụ kiện    3139000   \n",
      "Máy lọc không khí Xiaomi Mi Air Purifier 3H           Phụ kiện    3290000   \n",
      "Tai nghe Bluetooth Apple AirPods 2 (Sạc có dây)...    Phụ kiện    3290000   \n",
      "Đế sạc Mophie 3in1                                    Phụ kiện    3300000   \n",
      "Thay màn hình cảm ứng IPad Air                        Phụ kiện    3450000   \n",
      "\n",
      "                                                      View  \n",
      "Product                                                     \n",
      "Apple iPhone 11                                     217526  \n",
      "Bộ phát Wifi di động 4G LTE TotoLink MF180 v2.0       2771  \n",
      "Nokia 7.2                                               12  \n",
      "OPPO Find X2                                         58677  \n",
      "Oppo A31 4GB/128GB                                       2  \n",
      "...                                                    ...  \n",
      "Cổng chuyển HyperDrive Ultimate USB                    109  \n",
      "Máy lọc không khí Xiaomi Mi Air Purifier 3H           1514  \n",
      "Tai nghe Bluetooth Apple AirPods 2 (Sạc có dây)...    3480  \n",
      "Đế sạc Mophie 3in1                                     170  \n",
      "Thay màn hình cảm ứng IPad Air                           1  \n",
      "\n",
      "[333 rows x 3 columns]\n"
     ]
    }
   ],
   "source": [
    "print(df)"
   ]
  },
  {
   "cell_type": "code",
   "execution_count": 69,
   "metadata": {},
   "outputs": [
    {
     "data": {
      "text/html": [
       "<div>\n",
       "<style scoped>\n",
       "    .dataframe tbody tr th:only-of-type {\n",
       "        vertical-align: middle;\n",
       "    }\n",
       "\n",
       "    .dataframe tbody tr th {\n",
       "        vertical-align: top;\n",
       "    }\n",
       "\n",
       "    .dataframe thead th {\n",
       "        text-align: right;\n",
       "    }\n",
       "</style>\n",
       "<table border=\"1\" class=\"dataframe\">\n",
       "  <thead>\n",
       "    <tr style=\"text-align: right;\">\n",
       "      <th></th>\n",
       "      <th>Type</th>\n",
       "      <th>Price</th>\n",
       "      <th>View</th>\n",
       "    </tr>\n",
       "    <tr>\n",
       "      <th>Product</th>\n",
       "      <th></th>\n",
       "      <th></th>\n",
       "      <th></th>\n",
       "    </tr>\n",
       "  </thead>\n",
       "  <tbody>\n",
       "    <tr>\n",
       "      <th>Apple iPhone 11</th>\n",
       "      <td>Điện thoại</td>\n",
       "      <td>18950000</td>\n",
       "      <td>217526</td>\n",
       "    </tr>\n",
       "    <tr>\n",
       "      <th>Bộ phát Wifi di động 4G LTE TotoLink MF180 v2.0</th>\n",
       "      <td>Phụ kiện</td>\n",
       "      <td>1090000</td>\n",
       "      <td>2771</td>\n",
       "    </tr>\n",
       "    <tr>\n",
       "      <th>Nokia 7.2</th>\n",
       "      <td>Điện thoại</td>\n",
       "      <td>2500000</td>\n",
       "      <td>12</td>\n",
       "    </tr>\n",
       "    <tr>\n",
       "      <th>OPPO Find X2</th>\n",
       "      <td>Điện thoại</td>\n",
       "      <td>18750000</td>\n",
       "      <td>58677</td>\n",
       "    </tr>\n",
       "    <tr>\n",
       "      <th>Oppo A31 4GB/128GB</th>\n",
       "      <td>Điện thoại</td>\n",
       "      <td>3300000</td>\n",
       "      <td>2</td>\n",
       "    </tr>\n",
       "    <tr>\n",
       "      <th>...</th>\n",
       "      <td>...</td>\n",
       "      <td>...</td>\n",
       "      <td>...</td>\n",
       "    </tr>\n",
       "    <tr>\n",
       "      <th>Cổng chuyển HyperDrive Ultimate USB</th>\n",
       "      <td>Phụ kiện</td>\n",
       "      <td>3139000</td>\n",
       "      <td>109</td>\n",
       "    </tr>\n",
       "    <tr>\n",
       "      <th>Máy lọc không khí Xiaomi Mi Air Purifier 3H</th>\n",
       "      <td>Phụ kiện</td>\n",
       "      <td>3290000</td>\n",
       "      <td>1514</td>\n",
       "    </tr>\n",
       "    <tr>\n",
       "      <th>Tai nghe Bluetooth Apple AirPods 2 (Sạc có dây) Chính hãng VN/A</th>\n",
       "      <td>Phụ kiện</td>\n",
       "      <td>3290000</td>\n",
       "      <td>3480</td>\n",
       "    </tr>\n",
       "    <tr>\n",
       "      <th>Đế sạc Mophie 3in1</th>\n",
       "      <td>Phụ kiện</td>\n",
       "      <td>3300000</td>\n",
       "      <td>170</td>\n",
       "    </tr>\n",
       "    <tr>\n",
       "      <th>Thay màn hình cảm ứng IPad Air</th>\n",
       "      <td>Phụ kiện</td>\n",
       "      <td>3450000</td>\n",
       "      <td>1</td>\n",
       "    </tr>\n",
       "  </tbody>\n",
       "</table>\n",
       "<p>333 rows × 3 columns</p>\n",
       "</div>"
      ],
      "text/plain": [
       "                                                           Type     Price  \\\n",
       "Product                                                                     \n",
       "Apple iPhone 11                                     Điện thoại   18950000   \n",
       "Bộ phát Wifi di động 4G LTE TotoLink MF180 v2.0       Phụ kiện    1090000   \n",
       "Nokia 7.2                                           Điện thoại    2500000   \n",
       "OPPO Find X2                                        Điện thoại   18750000   \n",
       "Oppo A31 4GB/128GB                                  Điện thoại    3300000   \n",
       "...                                                         ...       ...   \n",
       "Cổng chuyển HyperDrive Ultimate USB                   Phụ kiện    3139000   \n",
       "Máy lọc không khí Xiaomi Mi Air Purifier 3H           Phụ kiện    3290000   \n",
       "Tai nghe Bluetooth Apple AirPods 2 (Sạc có dây)...    Phụ kiện    3290000   \n",
       "Đế sạc Mophie 3in1                                    Phụ kiện    3300000   \n",
       "Thay màn hình cảm ứng IPad Air                        Phụ kiện    3450000   \n",
       "\n",
       "                                                      View  \n",
       "Product                                                     \n",
       "Apple iPhone 11                                     217526  \n",
       "Bộ phát Wifi di động 4G LTE TotoLink MF180 v2.0       2771  \n",
       "Nokia 7.2                                               12  \n",
       "OPPO Find X2                                         58677  \n",
       "Oppo A31 4GB/128GB                                       2  \n",
       "...                                                    ...  \n",
       "Cổng chuyển HyperDrive Ultimate USB                    109  \n",
       "Máy lọc không khí Xiaomi Mi Air Purifier 3H           1514  \n",
       "Tai nghe Bluetooth Apple AirPods 2 (Sạc có dây)...    3480  \n",
       "Đế sạc Mophie 3in1                                     170  \n",
       "Thay màn hình cảm ứng IPad Air                           1  \n",
       "\n",
       "[333 rows x 3 columns]"
      ]
     },
     "execution_count": 69,
     "metadata": {},
     "output_type": "execute_result"
    }
   ],
   "source": [
    "ndf = df.loc[:,['Type','Price','View']]\n",
    "ndf"
   ]
  },
  {
   "cell_type": "code",
   "execution_count": 70,
   "metadata": {},
   "outputs": [
    {
     "data": {
      "text/plain": [
       "Index(['Type', 'Price', 'View'], dtype='object')"
      ]
     },
     "execution_count": 70,
     "metadata": {},
     "output_type": "execute_result"
    }
   ],
   "source": [
    "categories = ndf.columns\n",
    "categories"
   ]
  },
  {
   "cell_type": "code",
   "execution_count": 71,
   "metadata": {},
   "outputs": [
    {
     "data": {
      "text/plain": [
       "Type     object\n",
       "Price     int64\n",
       "View      int64\n",
       "dtype: object"
      ]
     },
     "execution_count": 71,
     "metadata": {},
     "output_type": "execute_result"
    }
   ],
   "source": [
    "ndf.dtypes"
   ]
  },
  {
   "cell_type": "code",
   "execution_count": 72,
   "metadata": {},
   "outputs": [
    {
     "data": {
      "text/plain": [
       "(333, 3)"
      ]
     },
     "execution_count": 72,
     "metadata": {},
     "output_type": "execute_result"
    }
   ],
   "source": [
    "ndf.shape"
   ]
  },
  {
   "cell_type": "code",
   "execution_count": 75,
   "metadata": {},
   "outputs": [
    {
     "data": {
      "text/plain": [
       "Product\n",
       "Apple iPhone 11                                                     Điện thoại \n",
       "Bộ phát Wifi di động 4G LTE TotoLink MF180 v2.0                       Phụ kiện \n",
       "Nokia 7.2                                                           Điện thoại \n",
       "OPPO Find X2                                                        Điện thoại \n",
       "Oppo A31 4GB/128GB                                                  Điện thoại \n",
       "                                                                       ...     \n",
       "Cổng chuyển HyperDrive Ultimate USB                                   Phụ kiện \n",
       "Máy lọc không khí Xiaomi Mi Air Purifier 3H                           Phụ kiện \n",
       "Tai nghe Bluetooth Apple AirPods 2 (Sạc có dây) Chính hãng VN/A       Phụ kiện \n",
       "Đế sạc Mophie 3in1                                                    Phụ kiện \n",
       "Thay màn hình cảm ứng IPad Air                                        Phụ kiện \n",
       "Name: Type, Length: 333, dtype: object"
      ]
     },
     "execution_count": 75,
     "metadata": {},
     "output_type": "execute_result"
    }
   ],
   "source": [
    "#ndf['Type']"
   ]
  },
  {
   "cell_type": "code",
   "execution_count": 76,
   "metadata": {},
   "outputs": [],
   "source": [
    "ty = ndf['Type']\n",
    "pr = ndf['Price']\n",
    "vi = ndf['View']"
   ]
  },
  {
   "cell_type": "code",
   "execution_count": 14,
   "metadata": {},
   "outputs": [
    {
     "data": {
      "text/html": [
       "<div>\n",
       "<style scoped>\n",
       "    .dataframe tbody tr th:only-of-type {\n",
       "        vertical-align: middle;\n",
       "    }\n",
       "\n",
       "    .dataframe tbody tr th {\n",
       "        vertical-align: top;\n",
       "    }\n",
       "\n",
       "    .dataframe thead th {\n",
       "        text-align: right;\n",
       "    }\n",
       "</style>\n",
       "<table border=\"1\" class=\"dataframe\">\n",
       "  <thead>\n",
       "    <tr style=\"text-align: right;\">\n",
       "      <th></th>\n",
       "      <th>Price</th>\n",
       "      <th>View</th>\n",
       "    </tr>\n",
       "  </thead>\n",
       "  <tbody>\n",
       "    <tr>\n",
       "      <th>count</th>\n",
       "      <td>3.330000e+02</td>\n",
       "      <td>333.000000</td>\n",
       "    </tr>\n",
       "    <tr>\n",
       "      <th>mean</th>\n",
       "      <td>4.202090e+06</td>\n",
       "      <td>48898.612613</td>\n",
       "    </tr>\n",
       "    <tr>\n",
       "      <th>std</th>\n",
       "      <td>3.926903e+06</td>\n",
       "      <td>120694.822038</td>\n",
       "    </tr>\n",
       "    <tr>\n",
       "      <th>min</th>\n",
       "      <td>3.900000e+05</td>\n",
       "      <td>1.000000</td>\n",
       "    </tr>\n",
       "    <tr>\n",
       "      <th>25%</th>\n",
       "      <td>1.590000e+06</td>\n",
       "      <td>325.000000</td>\n",
       "    </tr>\n",
       "    <tr>\n",
       "      <th>50%</th>\n",
       "      <td>2.950000e+06</td>\n",
       "      <td>2764.000000</td>\n",
       "    </tr>\n",
       "    <tr>\n",
       "      <th>75%</th>\n",
       "      <td>4.850000e+06</td>\n",
       "      <td>28524.000000</td>\n",
       "    </tr>\n",
       "    <tr>\n",
       "      <th>max</th>\n",
       "      <td>1.899000e+07</td>\n",
       "      <td>882067.000000</td>\n",
       "    </tr>\n",
       "  </tbody>\n",
       "</table>\n",
       "</div>"
      ],
      "text/plain": [
       "              Price           View\n",
       "count  3.330000e+02     333.000000\n",
       "mean   4.202090e+06   48898.612613\n",
       "std    3.926903e+06  120694.822038\n",
       "min    3.900000e+05       1.000000\n",
       "25%    1.590000e+06     325.000000\n",
       "50%    2.950000e+06    2764.000000\n",
       "75%    4.850000e+06   28524.000000\n",
       "max    1.899000e+07  882067.000000"
      ]
     },
     "execution_count": 14,
     "metadata": {},
     "output_type": "execute_result"
    }
   ],
   "source": [
    "#ndf.describe()"
   ]
  },
  {
   "cell_type": "code",
   "execution_count": 82,
   "metadata": {},
   "outputs": [
    {
     "data": {
      "text/plain": [
       "Text(0, 0.5, 'View')"
      ]
     },
     "execution_count": 82,
     "metadata": {},
     "output_type": "execute_result"
    },
    {
     "data": {
      "image/png": "[encoded data removed]",
      "text/plain": [
       "<Figure size 432x288 with 1 Axes>"
      ]
     },
     "metadata": {
      "needs_background": "light"
     },
     "output_type": "display_data"
    }
   ],
   "source": [
    "fig, ax = plt.subplots()\n",
    "\n",
    "ax.scatter(pr, vi, alpha=0.3)\n",
    "ax.set_title('price to view')\n",
    "ax.set_xlabel('Price \\n (1e7 = 10^7) \\n (unit: VND)')\n",
    "ax.set_ylabel('View')"
   ]
  },
  {
   "cell_type": "code",
   "execution_count": 78,
   "metadata": {},
   "outputs": [
    {
     "data": {
      "text/plain": [
       "Điện thoại     169\n",
       "Phụ kiện       164\n",
       "Name: Type, dtype: int64"
      ]
     },
     "execution_count": 78,
     "metadata": {},
     "output_type": "execute_result"
    }
   ],
   "source": [
    "ndf['Type'].value_counts()"
   ]
  },
  {
   "cell_type": "code",
   "execution_count": 79,
   "metadata": {},
   "outputs": [
    {
     "data": {
      "text/plain": [
       "Điện thoại     0.507508\n",
       "Phụ kiện       0.492492\n",
       "Name: Type, dtype: float64"
      ]
     },
     "execution_count": 79,
     "metadata": {},
     "output_type": "execute_result"
    }
   ],
   "source": [
    "ndf['Type'].value_counts('Phụ kiện')"
   ]
  },
  {
   "cell_type": "code",
   "execution_count": 17,
   "metadata": {},
   "outputs": [
    {
     "data": {
      "text/plain": [
       "Text(0, 0.5, 'Amount')"
      ]
     },
     "execution_count": 17,
     "metadata": {},
     "output_type": "execute_result"
    },
    {
     "data": {
      "image/png": "[encoded data removed]",
      "text/plain": [
       "<Figure size 432x288 with 1 Axes>"
      ]
     },
     "metadata": {
      "needs_background": "light"
     },
     "output_type": "display_data"
    }
   ],
   "source": [
    "fig, ax = plt.subplots()\n",
    "\n",
    "ax.hist(pr)\n",
    "ax.set_title('price')\n",
    "ax.set_xlabel('Price \\n (1e7 = 10^7) \\n (unit: VND)')\n",
    "ax.set_ylabel('Amount')"
   ]
  },
  {
   "cell_type": "code",
   "execution_count": 18,
   "metadata": {},
   "outputs": [
    {
     "data": {
      "text/plain": [
       "990000      12\n",
       "2490000      8\n",
       "1990000      8\n",
       "2990000      7\n",
       "2790000      7\n",
       "            ..\n",
       "4690000      1\n",
       "12990000     1\n",
       "780000       1\n",
       "3950000      1\n",
       "13690000     1\n",
       "Name: Price, Length: 165, dtype: int64"
      ]
     },
     "execution_count": 18,
     "metadata": {},
     "output_type": "execute_result"
    }
   ],
   "source": [
    "ndf['Price'].value_counts()"
   ]
  },
  {
   "cell_type": "code",
   "execution_count": 19,
   "metadata": {},
   "outputs": [
    {
     "name": "stdout",
     "output_type": "stream",
     "text": [
      "12\n"
     ]
    }
   ],
   "source": [
    "count = 0\n",
    "for i in range(0,305):\n",
    "    for j in range(0,3):\n",
    "        if ndf.iloc[i,j] == 990000:\n",
    "            count += 1\n",
    "print(count)"
   ]
  },
  {
   "cell_type": "code",
   "execution_count": 20,
   "metadata": {},
   "outputs": [
    {
     "data": {
      "text/plain": [
       "<pandas.core.groupby.generic.DataFrameGroupBy object at 0x000001CB658CDAC8>"
      ]
     },
     "execution_count": 20,
     "metadata": {},
     "output_type": "execute_result"
    }
   ],
   "source": [
    "he=ndf.groupby('Price')\n",
    "he"
   ]
  },
  {
   "cell_type": "code",
   "execution_count": 21,
   "metadata": {},
   "outputs": [
    {
     "data": {
      "text/html": [
       "<div>\n",
       "<style scoped>\n",
       "    .dataframe tbody tr th:only-of-type {\n",
       "        vertical-align: middle;\n",
       "    }\n",
       "\n",
       "    .dataframe tbody tr th {\n",
       "        vertical-align: top;\n",
       "    }\n",
       "\n",
       "    .dataframe thead th {\n",
       "        text-align: right;\n",
       "    }\n",
       "</style>\n",
       "<table border=\"1\" class=\"dataframe\">\n",
       "  <thead>\n",
       "    <tr style=\"text-align: right;\">\n",
       "      <th></th>\n",
       "      <th>Type</th>\n",
       "      <th>Price</th>\n",
       "      <th>View</th>\n",
       "    </tr>\n",
       "    <tr>\n",
       "      <th>Product</th>\n",
       "      <th></th>\n",
       "      <th></th>\n",
       "      <th></th>\n",
       "    </tr>\n",
       "  </thead>\n",
       "  <tbody>\n",
       "    <tr>\n",
       "      <th>Tai nghe True Wireless Soul ST</th>\n",
       "      <td>Phụ kiện</td>\n",
       "      <td>990000</td>\n",
       "      <td>3227</td>\n",
       "    </tr>\n",
       "    <tr>\n",
       "      <th>Pin dự phòng Zendure SuperMini 10000Mah PD 18W</th>\n",
       "      <td>Phụ kiện</td>\n",
       "      <td>990000</td>\n",
       "      <td>324</td>\n",
       "    </tr>\n",
       "    <tr>\n",
       "      <th>Ốp lưng chống sốc GEAR4 D3O Piccadilly iPhone  5.8\"/6,1\"/6,5\" 2019</th>\n",
       "      <td>Phụ kiện</td>\n",
       "      <td>990000</td>\n",
       "      <td>1916</td>\n",
       "    </tr>\n",
       "    <tr>\n",
       "      <th>Sạc INNOSTYLE GAN ZENI 65W Cho iPhone, iPad, Macbook</th>\n",
       "      <td>Phụ kiện</td>\n",
       "      <td>990000</td>\n",
       "      <td>17229</td>\n",
       "    </tr>\n",
       "    <tr>\n",
       "      <th>Tai nghe JBL ENDURANCE SPRINT</th>\n",
       "      <td>Phụ kiện</td>\n",
       "      <td>990000</td>\n",
       "      <td>9652</td>\n",
       "    </tr>\n",
       "    <tr>\n",
       "      <th>Cổng chuyển hyperdrive 4K HDMI 3</th>\n",
       "      <td>Phụ kiện</td>\n",
       "      <td>990000</td>\n",
       "      <td>2903</td>\n",
       "    </tr>\n",
       "    <tr>\n",
       "      <th>Camera IMOU IP Ranger Pro</th>\n",
       "      <td>Phụ kiện</td>\n",
       "      <td>990000</td>\n",
       "      <td>5475</td>\n",
       "    </tr>\n",
       "    <tr>\n",
       "      <th>Thay pin IPhone X Chính Hãng PISEN (Dung lượng chuẩn 2716mAh</th>\n",
       "      <td>Phụ kiện</td>\n",
       "      <td>990000</td>\n",
       "      <td>10434</td>\n",
       "    </tr>\n",
       "    <tr>\n",
       "      <th>Sạc dự phòng Aukey PB</th>\n",
       "      <td>Phụ kiện</td>\n",
       "      <td>990000</td>\n",
       "      <td>4287</td>\n",
       "    </tr>\n",
       "    <tr>\n",
       "      <th>Gậy đa năng Gopro 3</th>\n",
       "      <td>Phụ kiện</td>\n",
       "      <td>990000</td>\n",
       "      <td>8600</td>\n",
       "    </tr>\n",
       "    <tr>\n",
       "      <th>Tai nghe Bluetooth Plantronics BackBeat Fit 300</th>\n",
       "      <td>Phụ kiện</td>\n",
       "      <td>990000</td>\n",
       "      <td>2588</td>\n",
       "    </tr>\n",
       "    <tr>\n",
       "      <th>Tai nghe không dây Honor FlyPods Lite</th>\n",
       "      <td>Phụ kiện</td>\n",
       "      <td>990000</td>\n",
       "      <td>33945</td>\n",
       "    </tr>\n",
       "  </tbody>\n",
       "</table>\n",
       "</div>"
      ],
      "text/plain": [
       "                                                         Type   Price   View\n",
       "Product                                                                     \n",
       "Tai nghe True Wireless Soul ST                      Phụ kiện   990000   3227\n",
       "Pin dự phòng Zendure SuperMini 10000Mah PD 18W      Phụ kiện   990000    324\n",
       "Ốp lưng chống sốc GEAR4 D3O Piccadilly iPhone  ...  Phụ kiện   990000   1916\n",
       "Sạc INNOSTYLE GAN ZENI 65W Cho iPhone, iPad, Ma...  Phụ kiện   990000  17229\n",
       "Tai nghe JBL ENDURANCE SPRINT                       Phụ kiện   990000   9652\n",
       "Cổng chuyển hyperdrive 4K HDMI 3                    Phụ kiện   990000   2903\n",
       "Camera IMOU IP Ranger Pro                           Phụ kiện   990000   5475\n",
       "Thay pin IPhone X Chính Hãng PISEN (Dung lượng ...  Phụ kiện   990000  10434\n",
       "Sạc dự phòng Aukey PB                               Phụ kiện   990000   4287\n",
       "Gậy đa năng Gopro 3                                 Phụ kiện   990000   8600\n",
       "Tai nghe Bluetooth Plantronics BackBeat Fit 300     Phụ kiện   990000   2588\n",
       "Tai nghe không dây Honor FlyPods Lite               Phụ kiện   990000  33945"
      ]
     },
     "execution_count": 21,
     "metadata": {},
     "output_type": "execute_result"
    }
   ],
   "source": [
    "he.get_group(990000)"
   ]
  },
  {
   "cell_type": "code",
   "execution_count": 23,
   "metadata": {},
   "outputs": [
    {
     "data": {
      "text/plain": [
       "<pandas.core.groupby.generic.DataFrameGroupBy object at 0x000001CB65A06488>"
      ]
     },
     "execution_count": 23,
     "metadata": {},
     "output_type": "execute_result"
    }
   ],
   "source": [
    "hi=ndf.groupby('Type')\n",
    "hi"
   ]
  },
  {
   "cell_type": "code",
   "execution_count": 24,
   "metadata": {},
   "outputs": [
    {
     "data": {
      "text/html": [
       "<div>\n",
       "<style scoped>\n",
       "    .dataframe tbody tr th:only-of-type {\n",
       "        vertical-align: middle;\n",
       "    }\n",
       "\n",
       "    .dataframe tbody tr th {\n",
       "        vertical-align: top;\n",
       "    }\n",
       "\n",
       "    .dataframe thead th {\n",
       "        text-align: right;\n",
       "    }\n",
       "</style>\n",
       "<table border=\"1\" class=\"dataframe\">\n",
       "  <thead>\n",
       "    <tr style=\"text-align: right;\">\n",
       "      <th></th>\n",
       "      <th>Type</th>\n",
       "      <th>Price</th>\n",
       "      <th>View</th>\n",
       "    </tr>\n",
       "    <tr>\n",
       "      <th>Product</th>\n",
       "      <th></th>\n",
       "      <th></th>\n",
       "      <th></th>\n",
       "    </tr>\n",
       "  </thead>\n",
       "  <tbody>\n",
       "    <tr>\n",
       "      <th>Apple iPhone 11</th>\n",
       "      <td>Điện thoại</td>\n",
       "      <td>18950000</td>\n",
       "      <td>217526</td>\n",
       "    </tr>\n",
       "    <tr>\n",
       "      <th>Nokia 7.2</th>\n",
       "      <td>Điện thoại</td>\n",
       "      <td>2500000</td>\n",
       "      <td>12</td>\n",
       "    </tr>\n",
       "    <tr>\n",
       "      <th>OPPO Find X2</th>\n",
       "      <td>Điện thoại</td>\n",
       "      <td>18750000</td>\n",
       "      <td>58677</td>\n",
       "    </tr>\n",
       "    <tr>\n",
       "      <th>Oppo A31 4GB/128GB</th>\n",
       "      <td>Điện thoại</td>\n",
       "      <td>3300000</td>\n",
       "      <td>2</td>\n",
       "    </tr>\n",
       "    <tr>\n",
       "      <th>Samsung Galaxy S20 Ultra</th>\n",
       "      <td>Điện thoại</td>\n",
       "      <td>18990000</td>\n",
       "      <td>76</td>\n",
       "    </tr>\n",
       "    <tr>\n",
       "      <th>...</th>\n",
       "      <td>...</td>\n",
       "      <td>...</td>\n",
       "      <td>...</td>\n",
       "    </tr>\n",
       "    <tr>\n",
       "      <th>Xiaomi Redmi Note 9</th>\n",
       "      <td>Điện thoại</td>\n",
       "      <td>3290000</td>\n",
       "      <td>5</td>\n",
       "    </tr>\n",
       "    <tr>\n",
       "      <th>Vsmart Active 3</th>\n",
       "      <td>Điện thoại</td>\n",
       "      <td>3290000</td>\n",
       "      <td>2863</td>\n",
       "    </tr>\n",
       "    <tr>\n",
       "      <th>Xiaomi Redmi Note 8</th>\n",
       "      <td>Điện thoại</td>\n",
       "      <td>3290000</td>\n",
       "      <td>450</td>\n",
       "    </tr>\n",
       "    <tr>\n",
       "      <th>Nokia 5.3</th>\n",
       "      <td>Điện thoại</td>\n",
       "      <td>2890000</td>\n",
       "      <td>84</td>\n",
       "    </tr>\n",
       "    <tr>\n",
       "      <th>Nokia 5.3</th>\n",
       "      <td>Điện thoại</td>\n",
       "      <td>2700000</td>\n",
       "      <td>244</td>\n",
       "    </tr>\n",
       "  </tbody>\n",
       "</table>\n",
       "<p>169 rows × 3 columns</p>\n",
       "</div>"
      ],
      "text/plain": [
       "                                  Type     Price    View\n",
       "Product                                                 \n",
       "Apple iPhone 11            Điện thoại   18950000  217526\n",
       "Nokia 7.2                  Điện thoại    2500000      12\n",
       "OPPO Find X2               Điện thoại   18750000   58677\n",
       "Oppo A31 4GB/128GB         Điện thoại    3300000       2\n",
       "Samsung Galaxy S20 Ultra   Điện thoại   18990000      76\n",
       "...                                ...       ...     ...\n",
       "Xiaomi Redmi Note 9        Điện thoại    3290000       5\n",
       "Vsmart Active 3            Điện thoại    3290000    2863\n",
       "Xiaomi Redmi Note 8        Điện thoại    3290000     450\n",
       "Nokia 5.3                  Điện thoại    2890000      84\n",
       "Nokia 5.3                  Điện thoại    2700000     244\n",
       "\n",
       "[169 rows x 3 columns]"
      ]
     },
     "execution_count": 24,
     "metadata": {},
     "output_type": "execute_result"
    }
   ],
   "source": [
    "hi.get_group('Điện thoại ')"
   ]
  },
  {
   "cell_type": "code",
   "execution_count": 33,
   "metadata": {},
   "outputs": [
    {
     "data": {
      "text/plain": [
       "Text(0, 0.5, 'product with its view')"
      ]
     },
     "execution_count": 33,
     "metadata": {},
     "output_type": "execute_result"
    },
    {
     "data": {
      "image/png": "[encoded data removed]",
      "text/plain": [
       "<Figure size 432x288 with 1 Axes>"
      ]
     },
     "metadata": {
      "needs_background": "light"
     },
     "output_type": "display_data"
    }
   ],
   "source": [
    "plt.hist(vi, color=\"green\")\n",
    "plt.suptitle('View')\n",
    "plt.xlabel('view quantity')\n",
    "plt.ylabel('product with its view')"
   ]
  },
  {
   "cell_type": "code",
   "execution_count": 37,
   "metadata": {},
   "outputs": [
    {
     "data": {
      "image/png": "[encoded data removed]",
      "text/plain": [
       "<Figure size 432x288 with 1 Axes>"
      ]
     },
     "metadata": {
      "needs_background": "light"
     },
     "output_type": "display_data"
    }
   ],
   "source": [
    "plt.xlabel('Price')\n",
    "plt.ylabel('View')\n",
    "plt.grid()\n",
    "plt.plot(pr, vi)\n",
    "plt.show()"
   ]
  },
  {
   "cell_type": "code",
   "execution_count": 38,
   "metadata": {},
   "outputs": [],
   "source": [
    "data = ndf['Price'].value_counts()"
   ]
  },
  {
   "cell_type": "code",
   "execution_count": 39,
   "metadata": {},
   "outputs": [
    {
     "data": {
      "text/plain": [
       "990000      12\n",
       "2490000      8\n",
       "1990000      8\n",
       "2990000      7\n",
       "2790000      7\n",
       "            ..\n",
       "4690000      1\n",
       "12990000     1\n",
       "780000       1\n",
       "3950000      1\n",
       "13690000     1\n",
       "Name: Price, Length: 165, dtype: int64"
      ]
     },
     "execution_count": 39,
     "metadata": {},
     "output_type": "execute_result"
    }
   ],
   "source": [
    "data"
   ]
  },
  {
   "cell_type": "code",
   "execution_count": 42,
   "metadata": {},
   "outputs": [],
   "source": [
    "priceAmount = data.index\n",
    "amount = data.values"
   ]
  },
  {
   "cell_type": "code",
   "execution_count": 43,
   "metadata": {},
   "outputs": [
    {
     "data": {
      "text/plain": [
       "Int64Index([  990000,  2490000,  1990000,  2990000,  2790000,  1590000,\n",
       "             3290000,  1090000,   890000,  2590000,\n",
       "            ...\n",
       "              960000,   880000,  5150000,  6890000,  1079000,  4690000,\n",
       "            12990000,   780000,  3950000, 13690000],\n",
       "           dtype='int64', length=165)"
      ]
     },
     "execution_count": 43,
     "metadata": {},
     "output_type": "execute_result"
    }
   ],
   "source": [
    "priceAmount"
   ]
  },
  {
   "cell_type": "code",
   "execution_count": 44,
   "metadata": {},
   "outputs": [
    {
     "data": {
      "text/plain": [
       "array([12,  8,  8,  7,  7,  6,  6,  5,  5,  5,  5,  5,  5,  5,  4,  4,  4,\n",
       "        4,  4,  4,  3,  3,  3,  3,  3,  3,  3,  3,  3,  3,  3,  3,  3,  3,\n",
       "        3,  3,  3,  3,  3,  3,  2,  2,  2,  2,  2,  2,  2,  2,  2,  2,  2,\n",
       "        2,  2,  2,  2,  2,  2,  2,  2,  2,  2,  2,  2,  2,  2,  2,  2,  2,\n",
       "        2,  2,  2,  2,  2,  2,  2,  1,  1,  1,  1,  1,  1,  1,  1,  1,  1,\n",
       "        1,  1,  1,  1,  1,  1,  1,  1,  1,  1,  1,  1,  1,  1,  1,  1,  1,\n",
       "        1,  1,  1,  1,  1,  1,  1,  1,  1,  1,  1,  1,  1,  1,  1,  1,  1,\n",
       "        1,  1,  1,  1,  1,  1,  1,  1,  1,  1,  1,  1,  1,  1,  1,  1,  1,\n",
       "        1,  1,  1,  1,  1,  1,  1,  1,  1,  1,  1,  1,  1,  1,  1,  1,  1,\n",
       "        1,  1,  1,  1,  1,  1,  1,  1,  1,  1,  1,  1], dtype=int64)"
      ]
     },
     "execution_count": 44,
     "metadata": {},
     "output_type": "execute_result"
    }
   ],
   "source": [
    "amount"
   ]
  },
  {
   "cell_type": "code",
   "execution_count": 67,
   "metadata": {},
   "outputs": [
    {
     "data": {
      "image/png": "[encoded data removed]",
      "text/plain": [
       "<Figure size 432x288 with 1 Axes>"
      ]
     },
     "metadata": {
      "needs_background": "light"
     },
     "output_type": "display_data"
    }
   ],
   "source": [
    "fig, ax = plt.subplots() \n",
    "\n",
    "\n",
    "ax.bar(priceAmount, amount) \n",
    "ax.set_title(\"Customers' Interest\") \n",
    "ax.set_xlabel('Price') \n",
    "ax.set_ylabel('View')\n",
    "ax.text(100, -3, '1e7 = 10^7 \\n unit = VND', color='green')\n",
    "plt.show()"
   ]
  },
  {
   "cell_type": "code",
   "execution_count": null,
   "metadata": {},
   "outputs": [],
   "source": []
  }
 ],
 "metadata": {
  "kernelspec": {
   "display_name": "Python 3",
   "language": "python",
   "name": "python3"
  },
  "language_info": {
   "codemirror_mode": {
    "name": "ipython",
    "version": 3
   },
   "file_extension": ".py",
   "mimetype": "text/x-python",
   "name": "python",
   "nbconvert_exporter": "python",
   "pygments_lexer": "ipython3",
   "version": "3.7.6"
  }
 },
 "nbformat": 4,
 "nbformat_minor": 4
}
